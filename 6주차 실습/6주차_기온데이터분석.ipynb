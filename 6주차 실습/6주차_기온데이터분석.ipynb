{
 "cells": [
  {
   "cell_type": "code",
   "execution_count": 90,
   "id": "3853e69f",
   "metadata": {},
   "outputs": [],
   "source": [
    "import pandas as pd\n",
    "temp = pd.read_csv('temp_seoul_no.csv', encoding='cp949')"
   ]
  },
  {
   "cell_type": "code",
   "execution_count": 91,
   "id": "8d115771",
   "metadata": {},
   "outputs": [
    {
     "data": {
      "text/html": [
       "<div>\n",
       "<style scoped>\n",
       "    .dataframe tbody tr th:only-of-type {\n",
       "        vertical-align: middle;\n",
       "    }\n",
       "\n",
       "    .dataframe tbody tr th {\n",
       "        vertical-align: top;\n",
       "    }\n",
       "\n",
       "    .dataframe thead th {\n",
       "        text-align: right;\n",
       "    }\n",
       "</style>\n",
       "<table border=\"1\" class=\"dataframe\">\n",
       "  <thead>\n",
       "    <tr style=\"text-align: right;\">\n",
       "      <th></th>\n",
       "      <th>날짜</th>\n",
       "      <th>지점</th>\n",
       "      <th>평균기온(℃)</th>\n",
       "      <th>최저기온(℃)</th>\n",
       "      <th>최고기온(℃)</th>\n",
       "    </tr>\n",
       "  </thead>\n",
       "  <tbody>\n",
       "    <tr>\n",
       "      <th>0</th>\n",
       "      <td>\\t1907-10-01</td>\n",
       "      <td>108.0</td>\n",
       "      <td>13.5</td>\n",
       "      <td>7.9</td>\n",
       "      <td>20.7</td>\n",
       "    </tr>\n",
       "    <tr>\n",
       "      <th>1</th>\n",
       "      <td>\\t1907-10-02</td>\n",
       "      <td>108.0</td>\n",
       "      <td>16.2</td>\n",
       "      <td>7.9</td>\n",
       "      <td>22.0</td>\n",
       "    </tr>\n",
       "    <tr>\n",
       "      <th>2</th>\n",
       "      <td>\\t1907-10-03</td>\n",
       "      <td>108.0</td>\n",
       "      <td>16.2</td>\n",
       "      <td>13.1</td>\n",
       "      <td>21.3</td>\n",
       "    </tr>\n",
       "    <tr>\n",
       "      <th>3</th>\n",
       "      <td>\\t1907-10-04</td>\n",
       "      <td>108.0</td>\n",
       "      <td>16.5</td>\n",
       "      <td>11.2</td>\n",
       "      <td>22.0</td>\n",
       "    </tr>\n",
       "    <tr>\n",
       "      <th>4</th>\n",
       "      <td>\\t1907-10-05</td>\n",
       "      <td>108.0</td>\n",
       "      <td>17.6</td>\n",
       "      <td>10.9</td>\n",
       "      <td>25.4</td>\n",
       "    </tr>\n",
       "  </tbody>\n",
       "</table>\n",
       "</div>"
      ],
      "text/plain": [
       "             날짜     지점  평균기온(℃)  최저기온(℃)  최고기온(℃)\n",
       "0  \\t1907-10-01  108.0     13.5      7.9     20.7\n",
       "1  \\t1907-10-02  108.0     16.2      7.9     22.0\n",
       "2  \\t1907-10-03  108.0     16.2     13.1     21.3\n",
       "3  \\t1907-10-04  108.0     16.5     11.2     22.0\n",
       "4  \\t1907-10-05  108.0     17.6     10.9     25.4"
      ]
     },
     "execution_count": 91,
     "metadata": {},
     "output_type": "execute_result"
    }
   ],
   "source": [
    "temp.head()"
   ]
  },
  {
   "cell_type": "code",
   "execution_count": 92,
   "id": "e1a1fa0f",
   "metadata": {},
   "outputs": [
    {
     "name": "stdout",
     "output_type": "stream",
     "text": [
      "<class 'pandas.core.frame.DataFrame'>\n",
      "RangeIndex: 41766 entries, 0 to 41765\n",
      "Data columns (total 5 columns):\n",
      " #   Column   Non-Null Count  Dtype  \n",
      "---  ------   --------------  -----  \n",
      " 0   날짜       41766 non-null  object \n",
      " 1   지점       41765 non-null  float64\n",
      " 2   평균기온(℃)  41009 non-null  float64\n",
      " 3   최저기온(℃)  41006 non-null  float64\n",
      " 4   최고기온(℃)  41006 non-null  float64\n",
      "dtypes: float64(4), object(1)\n",
      "memory usage: 1.6+ MB\n"
     ]
    }
   ],
   "source": [
    "# non-Null 데이터 개수 확인 \n",
    "# 전체 데이터 41765개\n",
    "temp.info()"
   ]
  },
  {
   "cell_type": "code",
   "execution_count": 93,
   "id": "fea4ebfe",
   "metadata": {},
   "outputs": [
    {
     "data": {
      "text/plain": [
       "Index(['날짜', '지점', '평균기온(℃)', '최저기온(℃)', '최고기온(℃)'], dtype='object')"
      ]
     },
     "execution_count": 93,
     "metadata": {},
     "output_type": "execute_result"
    }
   ],
   "source": [
    "# 컬럼 이름 확인\n",
    "temp.columns"
   ]
  },
  {
   "cell_type": "code",
   "execution_count": 94,
   "id": "93c29036",
   "metadata": {},
   "outputs": [
    {
     "data": {
      "text/plain": [
       "'평균기온(℃)'"
      ]
     },
     "execution_count": 94,
     "metadata": {},
     "output_type": "execute_result"
    }
   ],
   "source": [
    "temp.columns[2]"
   ]
  },
  {
   "cell_type": "code",
   "execution_count": 95,
   "id": "2f063819",
   "metadata": {},
   "outputs": [
    {
     "data": {
      "text/plain": [
       "757"
      ]
     },
     "execution_count": 95,
     "metadata": {},
     "output_type": "execute_result"
    }
   ],
   "source": [
    "# 3번째 변수 값이 NULL인 값의 개수 출력\n",
    "temp[temp.columns[2]].isna().sum()"
   ]
  },
  {
   "cell_type": "code",
   "execution_count": 96,
   "id": "3a679ccd",
   "metadata": {},
   "outputs": [],
   "source": [
    "# temp 데이터 프레임에 파생 변수 등을 추가하기 위해 copy\n",
    "temp_new = temp.copy()"
   ]
  },
  {
   "cell_type": "code",
   "execution_count": 97,
   "id": "9316c3cf",
   "metadata": {},
   "outputs": [
    {
     "data": {
      "text/html": [
       "<div>\n",
       "<style scoped>\n",
       "    .dataframe tbody tr th:only-of-type {\n",
       "        vertical-align: middle;\n",
       "    }\n",
       "\n",
       "    .dataframe tbody tr th {\n",
       "        vertical-align: top;\n",
       "    }\n",
       "\n",
       "    .dataframe thead th {\n",
       "        text-align: right;\n",
       "    }\n",
       "</style>\n",
       "<table border=\"1\" class=\"dataframe\">\n",
       "  <thead>\n",
       "    <tr style=\"text-align: right;\">\n",
       "      <th></th>\n",
       "      <th>날짜</th>\n",
       "      <th>지점</th>\n",
       "      <th>평균기온(℃)</th>\n",
       "      <th>최저기온(℃)</th>\n",
       "      <th>최고기온(℃)</th>\n",
       "    </tr>\n",
       "  </thead>\n",
       "  <tbody>\n",
       "    <tr>\n",
       "      <th>0</th>\n",
       "      <td>\\t1907-10-01</td>\n",
       "      <td>108.0</td>\n",
       "      <td>13.5</td>\n",
       "      <td>7.9</td>\n",
       "      <td>20.7</td>\n",
       "    </tr>\n",
       "    <tr>\n",
       "      <th>1</th>\n",
       "      <td>\\t1907-10-02</td>\n",
       "      <td>108.0</td>\n",
       "      <td>16.2</td>\n",
       "      <td>7.9</td>\n",
       "      <td>22.0</td>\n",
       "    </tr>\n",
       "    <tr>\n",
       "      <th>2</th>\n",
       "      <td>\\t1907-10-03</td>\n",
       "      <td>108.0</td>\n",
       "      <td>16.2</td>\n",
       "      <td>13.1</td>\n",
       "      <td>21.3</td>\n",
       "    </tr>\n",
       "  </tbody>\n",
       "</table>\n",
       "</div>"
      ],
      "text/plain": [
       "             날짜     지점  평균기온(℃)  최저기온(℃)  최고기온(℃)\n",
       "0  \\t1907-10-01  108.0     13.5      7.9     20.7\n",
       "1  \\t1907-10-02  108.0     16.2      7.9     22.0\n",
       "2  \\t1907-10-03  108.0     16.2     13.1     21.3"
      ]
     },
     "execution_count": 97,
     "metadata": {},
     "output_type": "execute_result"
    }
   ],
   "source": [
    "temp_new.head(3)"
   ]
  },
  {
   "cell_type": "code",
   "execution_count": 98,
   "id": "12a3d760",
   "metadata": {},
   "outputs": [],
   "source": [
    "# 변수 이름 평균기온을 temp_mean으로 변경\n",
    "temp_new = temp_new.rename(columns = {temp_new.columns[2] : 'temp_mean'})"
   ]
  },
  {
   "cell_type": "code",
   "execution_count": 99,
   "id": "741a116b",
   "metadata": {},
   "outputs": [
    {
     "data": {
      "text/html": [
       "<div>\n",
       "<style scoped>\n",
       "    .dataframe tbody tr th:only-of-type {\n",
       "        vertical-align: middle;\n",
       "    }\n",
       "\n",
       "    .dataframe tbody tr th {\n",
       "        vertical-align: top;\n",
       "    }\n",
       "\n",
       "    .dataframe thead th {\n",
       "        text-align: right;\n",
       "    }\n",
       "</style>\n",
       "<table border=\"1\" class=\"dataframe\">\n",
       "  <thead>\n",
       "    <tr style=\"text-align: right;\">\n",
       "      <th></th>\n",
       "      <th>날짜</th>\n",
       "      <th>지점</th>\n",
       "      <th>temp_mean</th>\n",
       "      <th>최저기온(℃)</th>\n",
       "      <th>최고기온(℃)</th>\n",
       "    </tr>\n",
       "  </thead>\n",
       "  <tbody>\n",
       "    <tr>\n",
       "      <th>0</th>\n",
       "      <td>\\t1907-10-01</td>\n",
       "      <td>108.0</td>\n",
       "      <td>13.5</td>\n",
       "      <td>7.9</td>\n",
       "      <td>20.7</td>\n",
       "    </tr>\n",
       "    <tr>\n",
       "      <th>1</th>\n",
       "      <td>\\t1907-10-02</td>\n",
       "      <td>108.0</td>\n",
       "      <td>16.2</td>\n",
       "      <td>7.9</td>\n",
       "      <td>22.0</td>\n",
       "    </tr>\n",
       "    <tr>\n",
       "      <th>2</th>\n",
       "      <td>\\t1907-10-03</td>\n",
       "      <td>108.0</td>\n",
       "      <td>16.2</td>\n",
       "      <td>13.1</td>\n",
       "      <td>21.3</td>\n",
       "    </tr>\n",
       "    <tr>\n",
       "      <th>3</th>\n",
       "      <td>\\t1907-10-04</td>\n",
       "      <td>108.0</td>\n",
       "      <td>16.5</td>\n",
       "      <td>11.2</td>\n",
       "      <td>22.0</td>\n",
       "    </tr>\n",
       "    <tr>\n",
       "      <th>4</th>\n",
       "      <td>\\t1907-10-05</td>\n",
       "      <td>108.0</td>\n",
       "      <td>17.6</td>\n",
       "      <td>10.9</td>\n",
       "      <td>25.4</td>\n",
       "    </tr>\n",
       "  </tbody>\n",
       "</table>\n",
       "</div>"
      ],
      "text/plain": [
       "             날짜     지점  temp_mean  최저기온(℃)  최고기온(℃)\n",
       "0  \\t1907-10-01  108.0       13.5      7.9     20.7\n",
       "1  \\t1907-10-02  108.0       16.2      7.9     22.0\n",
       "2  \\t1907-10-03  108.0       16.2     13.1     21.3\n",
       "3  \\t1907-10-04  108.0       16.5     11.2     22.0\n",
       "4  \\t1907-10-05  108.0       17.6     10.9     25.4"
      ]
     },
     "execution_count": 99,
     "metadata": {},
     "output_type": "execute_result"
    }
   ],
   "source": [
    "temp_new.head()"
   ]
  },
  {
   "cell_type": "code",
   "execution_count": 100,
   "id": "a4367578",
   "metadata": {},
   "outputs": [],
   "source": [
    "temp_new = temp_new.rename(columns = {temp_new.columns[3] : 'temp_min'})"
   ]
  },
  {
   "cell_type": "code",
   "execution_count": 101,
   "id": "dd64c289",
   "metadata": {},
   "outputs": [],
   "source": [
    "temp_new = temp_new.rename(columns = {temp_new.columns[4] : 'temp_max'})"
   ]
  },
  {
   "cell_type": "code",
   "execution_count": 102,
   "id": "384f090c",
   "metadata": {},
   "outputs": [
    {
     "name": "stdout",
     "output_type": "stream",
     "text": [
      "<class 'pandas.core.frame.DataFrame'>\n",
      "RangeIndex: 41766 entries, 0 to 41765\n",
      "Data columns (total 5 columns):\n",
      " #   Column     Non-Null Count  Dtype  \n",
      "---  ------     --------------  -----  \n",
      " 0   날짜         41766 non-null  object \n",
      " 1   지점         41765 non-null  float64\n",
      " 2   temp_mean  41009 non-null  float64\n",
      " 3   temp_min   41006 non-null  float64\n",
      " 4   temp_max   41006 non-null  float64\n",
      "dtypes: float64(4), object(1)\n",
      "memory usage: 1.6+ MB\n"
     ]
    }
   ],
   "source": [
    "temp_new.info() # 변수 이름 변경"
   ]
  },
  {
   "cell_type": "code",
   "execution_count": 103,
   "id": "b9c5242f",
   "metadata": {},
   "outputs": [
    {
     "data": {
      "text/plain": [
       "temp_max    39.6\n",
       "dtype: float64"
      ]
     },
     "execution_count": 103,
     "metadata": {},
     "output_type": "execute_result"
    }
   ],
   "source": [
    "temp_new[['temp_max']].max() # 서울지역 최고 기온 확인"
   ]
  },
  {
   "cell_type": "code",
   "execution_count": 104,
   "id": "72f85cd3",
   "metadata": {},
   "outputs": [
    {
     "data": {
      "text/html": [
       "<div>\n",
       "<style scoped>\n",
       "    .dataframe tbody tr th:only-of-type {\n",
       "        vertical-align: middle;\n",
       "    }\n",
       "\n",
       "    .dataframe tbody tr th {\n",
       "        vertical-align: top;\n",
       "    }\n",
       "\n",
       "    .dataframe thead th {\n",
       "        text-align: right;\n",
       "    }\n",
       "</style>\n",
       "<table border=\"1\" class=\"dataframe\">\n",
       "  <thead>\n",
       "    <tr style=\"text-align: right;\">\n",
       "      <th></th>\n",
       "      <th>날짜</th>\n",
       "      <th>지점</th>\n",
       "      <th>temp_mean</th>\n",
       "      <th>temp_min</th>\n",
       "      <th>temp_max</th>\n",
       "    </tr>\n",
       "  </thead>\n",
       "  <tbody>\n",
       "    <tr>\n",
       "      <th>40051</th>\n",
       "      <td>\\t2018-08-01</td>\n",
       "      <td>108.0</td>\n",
       "      <td>33.6</td>\n",
       "      <td>27.8</td>\n",
       "      <td>39.6</td>\n",
       "    </tr>\n",
       "  </tbody>\n",
       "</table>\n",
       "</div>"
      ],
      "text/plain": [
       "                 날짜     지점  temp_mean  temp_min  temp_max\n",
       "40051  \\t2018-08-01  108.0       33.6      27.8      39.6"
      ]
     },
     "execution_count": 104,
     "metadata": {},
     "output_type": "execute_result"
    }
   ],
   "source": [
    "temp_new.query('temp_max == 39.6')"
   ]
  },
  {
   "cell_type": "code",
   "execution_count": 105,
   "id": "28dc88ed",
   "metadata": {},
   "outputs": [],
   "source": [
    "# 날짜 변수 값이 \\t로 시작하는 것을 확인\n",
    "# 날짜 변수 값에서 \\t를 삭제\n",
    "temp_new['날짜'] = temp_new['날짜'].str.replace('\\t', '')"
   ]
  },
  {
   "cell_type": "code",
   "execution_count": 106,
   "id": "41503a5d",
   "metadata": {},
   "outputs": [
    {
     "data": {
      "text/html": [
       "<div>\n",
       "<style scoped>\n",
       "    .dataframe tbody tr th:only-of-type {\n",
       "        vertical-align: middle;\n",
       "    }\n",
       "\n",
       "    .dataframe tbody tr th {\n",
       "        vertical-align: top;\n",
       "    }\n",
       "\n",
       "    .dataframe thead th {\n",
       "        text-align: right;\n",
       "    }\n",
       "</style>\n",
       "<table border=\"1\" class=\"dataframe\">\n",
       "  <thead>\n",
       "    <tr style=\"text-align: right;\">\n",
       "      <th></th>\n",
       "      <th>날짜</th>\n",
       "      <th>지점</th>\n",
       "      <th>temp_mean</th>\n",
       "      <th>temp_min</th>\n",
       "      <th>temp_max</th>\n",
       "    </tr>\n",
       "  </thead>\n",
       "  <tbody>\n",
       "    <tr>\n",
       "      <th>0</th>\n",
       "      <td>1907-10-01</td>\n",
       "      <td>108.0</td>\n",
       "      <td>13.5</td>\n",
       "      <td>7.9</td>\n",
       "      <td>20.7</td>\n",
       "    </tr>\n",
       "    <tr>\n",
       "      <th>1</th>\n",
       "      <td>1907-10-02</td>\n",
       "      <td>108.0</td>\n",
       "      <td>16.2</td>\n",
       "      <td>7.9</td>\n",
       "      <td>22.0</td>\n",
       "    </tr>\n",
       "    <tr>\n",
       "      <th>2</th>\n",
       "      <td>1907-10-03</td>\n",
       "      <td>108.0</td>\n",
       "      <td>16.2</td>\n",
       "      <td>13.1</td>\n",
       "      <td>21.3</td>\n",
       "    </tr>\n",
       "    <tr>\n",
       "      <th>3</th>\n",
       "      <td>1907-10-04</td>\n",
       "      <td>108.0</td>\n",
       "      <td>16.5</td>\n",
       "      <td>11.2</td>\n",
       "      <td>22.0</td>\n",
       "    </tr>\n",
       "    <tr>\n",
       "      <th>4</th>\n",
       "      <td>1907-10-05</td>\n",
       "      <td>108.0</td>\n",
       "      <td>17.6</td>\n",
       "      <td>10.9</td>\n",
       "      <td>25.4</td>\n",
       "    </tr>\n",
       "  </tbody>\n",
       "</table>\n",
       "</div>"
      ],
      "text/plain": [
       "           날짜     지점  temp_mean  temp_min  temp_max\n",
       "0  1907-10-01  108.0       13.5       7.9      20.7\n",
       "1  1907-10-02  108.0       16.2       7.9      22.0\n",
       "2  1907-10-03  108.0       16.2      13.1      21.3\n",
       "3  1907-10-04  108.0       16.5      11.2      22.0\n",
       "4  1907-10-05  108.0       17.6      10.9      25.4"
      ]
     },
     "execution_count": 106,
     "metadata": {},
     "output_type": "execute_result"
    }
   ],
   "source": [
    "# 날짜 변수 값에 \\t가 삭제된 것을 확인\n",
    "temp_new.head()"
   ]
  },
  {
   "cell_type": "code",
   "execution_count": 107,
   "id": "66bd0dd7",
   "metadata": {},
   "outputs": [
    {
     "name": "stdout",
     "output_type": "stream",
     "text": [
      "<class 'pandas.core.frame.DataFrame'>\n",
      "RangeIndex: 41766 entries, 0 to 41765\n",
      "Data columns (total 5 columns):\n",
      " #   Column     Non-Null Count  Dtype  \n",
      "---  ------     --------------  -----  \n",
      " 0   날짜         41766 non-null  object \n",
      " 1   지점         41765 non-null  float64\n",
      " 2   temp_mean  41009 non-null  float64\n",
      " 3   temp_min   41006 non-null  float64\n",
      " 4   temp_max   41006 non-null  float64\n",
      "dtypes: float64(4), object(1)\n",
      "memory usage: 1.6+ MB\n"
     ]
    }
   ],
   "source": [
    "temp_new.info() # 날짜 데이터 타입이 object"
   ]
  },
  {
   "cell_type": "code",
   "execution_count": 108,
   "id": "393f79cd",
   "metadata": {},
   "outputs": [],
   "source": [
    "# 변수 날짜의 데이터 타입을 datetime으로 변경\n",
    "# 변수 날짜의 각각의 값에 대해 (apply(lambda x))\n",
    "# 날짜 값을 datetime 유형으로 변환 (pd.to_datetime(str(x), format = '%Y-%m-%d'))\n",
    "temp_new['날짜'] = temp_new['날짜'].apply(lambda x: pd.to_datetime(str(x), format='%Y-%m-%d'))"
   ]
  },
  {
   "cell_type": "code",
   "execution_count": 109,
   "id": "5b23afd1",
   "metadata": {},
   "outputs": [
    {
     "name": "stdout",
     "output_type": "stream",
     "text": [
      "<class 'pandas.core.frame.DataFrame'>\n",
      "RangeIndex: 41766 entries, 0 to 41765\n",
      "Data columns (total 5 columns):\n",
      " #   Column     Non-Null Count  Dtype         \n",
      "---  ------     --------------  -----         \n",
      " 0   날짜         41765 non-null  datetime64[ns]\n",
      " 1   지점         41765 non-null  float64       \n",
      " 2   temp_mean  41009 non-null  float64       \n",
      " 3   temp_min   41006 non-null  float64       \n",
      " 4   temp_max   41006 non-null  float64       \n",
      "dtypes: datetime64[ns](1), float64(4)\n",
      "memory usage: 1.6 MB\n"
     ]
    }
   ],
   "source": [
    "# 변수 날짜 데이터 타입이 datetime으로 변경 된 것을 확인\n",
    "temp_new.info()"
   ]
  },
  {
   "cell_type": "code",
   "execution_count": 110,
   "id": "9ddc0371",
   "metadata": {},
   "outputs": [
    {
     "data": {
      "text/html": [
       "<div>\n",
       "<style scoped>\n",
       "    .dataframe tbody tr th:only-of-type {\n",
       "        vertical-align: middle;\n",
       "    }\n",
       "\n",
       "    .dataframe tbody tr th {\n",
       "        vertical-align: top;\n",
       "    }\n",
       "\n",
       "    .dataframe thead th {\n",
       "        text-align: right;\n",
       "    }\n",
       "</style>\n",
       "<table border=\"1\" class=\"dataframe\">\n",
       "  <thead>\n",
       "    <tr style=\"text-align: right;\">\n",
       "      <th></th>\n",
       "      <th>날짜</th>\n",
       "      <th>지점</th>\n",
       "      <th>temp_mean</th>\n",
       "      <th>temp_min</th>\n",
       "      <th>temp_max</th>\n",
       "    </tr>\n",
       "  </thead>\n",
       "  <tbody>\n",
       "    <tr>\n",
       "      <th>0</th>\n",
       "      <td>1907-10-01</td>\n",
       "      <td>108.0</td>\n",
       "      <td>13.5</td>\n",
       "      <td>7.9</td>\n",
       "      <td>20.7</td>\n",
       "    </tr>\n",
       "    <tr>\n",
       "      <th>1</th>\n",
       "      <td>1907-10-02</td>\n",
       "      <td>108.0</td>\n",
       "      <td>16.2</td>\n",
       "      <td>7.9</td>\n",
       "      <td>22.0</td>\n",
       "    </tr>\n",
       "    <tr>\n",
       "      <th>2</th>\n",
       "      <td>1907-10-03</td>\n",
       "      <td>108.0</td>\n",
       "      <td>16.2</td>\n",
       "      <td>13.1</td>\n",
       "      <td>21.3</td>\n",
       "    </tr>\n",
       "    <tr>\n",
       "      <th>3</th>\n",
       "      <td>1907-10-04</td>\n",
       "      <td>108.0</td>\n",
       "      <td>16.5</td>\n",
       "      <td>11.2</td>\n",
       "      <td>22.0</td>\n",
       "    </tr>\n",
       "    <tr>\n",
       "      <th>4</th>\n",
       "      <td>1907-10-05</td>\n",
       "      <td>108.0</td>\n",
       "      <td>17.6</td>\n",
       "      <td>10.9</td>\n",
       "      <td>25.4</td>\n",
       "    </tr>\n",
       "  </tbody>\n",
       "</table>\n",
       "</div>"
      ],
      "text/plain": [
       "          날짜     지점  temp_mean  temp_min  temp_max\n",
       "0 1907-10-01  108.0       13.5       7.9      20.7\n",
       "1 1907-10-02  108.0       16.2       7.9      22.0\n",
       "2 1907-10-03  108.0       16.2      13.1      21.3\n",
       "3 1907-10-04  108.0       16.5      11.2      22.0\n",
       "4 1907-10-05  108.0       17.6      10.9      25.4"
      ]
     },
     "execution_count": 110,
     "metadata": {},
     "output_type": "execute_result"
    }
   ],
   "source": [
    "temp_new.head()"
   ]
  },
  {
   "cell_type": "markdown",
   "id": "c2a583cc",
   "metadata": {},
   "source": [
    "## 일교차(일별 온도차) 구하기"
   ]
  },
  {
   "cell_type": "code",
   "execution_count": 111,
   "id": "40bd94f1",
   "metadata": {},
   "outputs": [],
   "source": [
    "# 일교차 구하고 파생변수 diff로 생성\n",
    "temp_new['diff'] = temp_new['temp_max'] - temp_new['temp_min']"
   ]
  },
  {
   "cell_type": "code",
   "execution_count": 112,
   "id": "203260f3",
   "metadata": {},
   "outputs": [
    {
     "data": {
      "text/html": [
       "<div>\n",
       "<style scoped>\n",
       "    .dataframe tbody tr th:only-of-type {\n",
       "        vertical-align: middle;\n",
       "    }\n",
       "\n",
       "    .dataframe tbody tr th {\n",
       "        vertical-align: top;\n",
       "    }\n",
       "\n",
       "    .dataframe thead th {\n",
       "        text-align: right;\n",
       "    }\n",
       "</style>\n",
       "<table border=\"1\" class=\"dataframe\">\n",
       "  <thead>\n",
       "    <tr style=\"text-align: right;\">\n",
       "      <th></th>\n",
       "      <th>날짜</th>\n",
       "      <th>지점</th>\n",
       "      <th>temp_mean</th>\n",
       "      <th>temp_min</th>\n",
       "      <th>temp_max</th>\n",
       "      <th>diff</th>\n",
       "    </tr>\n",
       "  </thead>\n",
       "  <tbody>\n",
       "    <tr>\n",
       "      <th>0</th>\n",
       "      <td>1907-10-01</td>\n",
       "      <td>108.0</td>\n",
       "      <td>13.5</td>\n",
       "      <td>7.9</td>\n",
       "      <td>20.7</td>\n",
       "      <td>12.8</td>\n",
       "    </tr>\n",
       "    <tr>\n",
       "      <th>1</th>\n",
       "      <td>1907-10-02</td>\n",
       "      <td>108.0</td>\n",
       "      <td>16.2</td>\n",
       "      <td>7.9</td>\n",
       "      <td>22.0</td>\n",
       "      <td>14.1</td>\n",
       "    </tr>\n",
       "    <tr>\n",
       "      <th>2</th>\n",
       "      <td>1907-10-03</td>\n",
       "      <td>108.0</td>\n",
       "      <td>16.2</td>\n",
       "      <td>13.1</td>\n",
       "      <td>21.3</td>\n",
       "      <td>8.2</td>\n",
       "    </tr>\n",
       "    <tr>\n",
       "      <th>3</th>\n",
       "      <td>1907-10-04</td>\n",
       "      <td>108.0</td>\n",
       "      <td>16.5</td>\n",
       "      <td>11.2</td>\n",
       "      <td>22.0</td>\n",
       "      <td>10.8</td>\n",
       "    </tr>\n",
       "    <tr>\n",
       "      <th>4</th>\n",
       "      <td>1907-10-05</td>\n",
       "      <td>108.0</td>\n",
       "      <td>17.6</td>\n",
       "      <td>10.9</td>\n",
       "      <td>25.4</td>\n",
       "      <td>14.5</td>\n",
       "    </tr>\n",
       "  </tbody>\n",
       "</table>\n",
       "</div>"
      ],
      "text/plain": [
       "          날짜     지점  temp_mean  temp_min  temp_max  diff\n",
       "0 1907-10-01  108.0       13.5       7.9      20.7  12.8\n",
       "1 1907-10-02  108.0       16.2       7.9      22.0  14.1\n",
       "2 1907-10-03  108.0       16.2      13.1      21.3   8.2\n",
       "3 1907-10-04  108.0       16.5      11.2      22.0  10.8\n",
       "4 1907-10-05  108.0       17.6      10.9      25.4  14.5"
      ]
     },
     "execution_count": 112,
     "metadata": {},
     "output_type": "execute_result"
    }
   ],
   "source": [
    "temp_new.head()"
   ]
  },
  {
   "cell_type": "code",
   "execution_count": 113,
   "id": "83afd9f4",
   "metadata": {},
   "outputs": [
    {
     "data": {
      "text/html": [
       "<div>\n",
       "<style scoped>\n",
       "    .dataframe tbody tr th:only-of-type {\n",
       "        vertical-align: middle;\n",
       "    }\n",
       "\n",
       "    .dataframe tbody tr th {\n",
       "        vertical-align: top;\n",
       "    }\n",
       "\n",
       "    .dataframe thead th {\n",
       "        text-align: right;\n",
       "    }\n",
       "</style>\n",
       "<table border=\"1\" class=\"dataframe\">\n",
       "  <thead>\n",
       "    <tr style=\"text-align: right;\">\n",
       "      <th></th>\n",
       "      <th>날짜</th>\n",
       "      <th>지점</th>\n",
       "      <th>temp_mean</th>\n",
       "      <th>temp_min</th>\n",
       "      <th>temp_max</th>\n",
       "      <th>diff</th>\n",
       "    </tr>\n",
       "  </thead>\n",
       "  <tbody>\n",
       "    <tr>\n",
       "      <th>12619</th>\n",
       "      <td>1942-04-19</td>\n",
       "      <td>108.0</td>\n",
       "      <td>12.7</td>\n",
       "      <td>2.5</td>\n",
       "      <td>24.3</td>\n",
       "      <td>21.8</td>\n",
       "    </tr>\n",
       "    <tr>\n",
       "      <th>3863</th>\n",
       "      <td>1918-04-29</td>\n",
       "      <td>108.0</td>\n",
       "      <td>16.7</td>\n",
       "      <td>4.6</td>\n",
       "      <td>26.3</td>\n",
       "      <td>21.7</td>\n",
       "    </tr>\n",
       "    <tr>\n",
       "      <th>3147</th>\n",
       "      <td>1916-05-13</td>\n",
       "      <td>108.0</td>\n",
       "      <td>18.1</td>\n",
       "      <td>8.3</td>\n",
       "      <td>29.7</td>\n",
       "      <td>21.4</td>\n",
       "    </tr>\n",
       "    <tr>\n",
       "      <th>13980</th>\n",
       "      <td>1946-01-09</td>\n",
       "      <td>108.0</td>\n",
       "      <td>-8.1</td>\n",
       "      <td>-13.6</td>\n",
       "      <td>7.7</td>\n",
       "      <td>21.3</td>\n",
       "    </tr>\n",
       "    <tr>\n",
       "      <th>6026</th>\n",
       "      <td>1924-03-31</td>\n",
       "      <td>108.0</td>\n",
       "      <td>9.0</td>\n",
       "      <td>-1.0</td>\n",
       "      <td>20.2</td>\n",
       "      <td>21.2</td>\n",
       "    </tr>\n",
       "    <tr>\n",
       "      <th>7696</th>\n",
       "      <td>1928-10-26</td>\n",
       "      <td>108.0</td>\n",
       "      <td>14.3</td>\n",
       "      <td>4.5</td>\n",
       "      <td>25.7</td>\n",
       "      <td>21.2</td>\n",
       "    </tr>\n",
       "    <tr>\n",
       "      <th>559</th>\n",
       "      <td>1909-04-12</td>\n",
       "      <td>108.0</td>\n",
       "      <td>11.1</td>\n",
       "      <td>-0.9</td>\n",
       "      <td>20.2</td>\n",
       "      <td>21.1</td>\n",
       "    </tr>\n",
       "    <tr>\n",
       "      <th>3545</th>\n",
       "      <td>1917-06-15</td>\n",
       "      <td>108.0</td>\n",
       "      <td>23.8</td>\n",
       "      <td>13.5</td>\n",
       "      <td>34.5</td>\n",
       "      <td>21.0</td>\n",
       "    </tr>\n",
       "    <tr>\n",
       "      <th>2062</th>\n",
       "      <td>1913-05-24</td>\n",
       "      <td>108.0</td>\n",
       "      <td>19.7</td>\n",
       "      <td>9.2</td>\n",
       "      <td>30.0</td>\n",
       "      <td>20.8</td>\n",
       "    </tr>\n",
       "    <tr>\n",
       "      <th>11513</th>\n",
       "      <td>1939-04-09</td>\n",
       "      <td>108.0</td>\n",
       "      <td>10.6</td>\n",
       "      <td>0.6</td>\n",
       "      <td>21.4</td>\n",
       "      <td>20.8</td>\n",
       "    </tr>\n",
       "  </tbody>\n",
       "</table>\n",
       "</div>"
      ],
      "text/plain": [
       "              날짜     지점  temp_mean  temp_min  temp_max  diff\n",
       "12619 1942-04-19  108.0       12.7       2.5      24.3  21.8\n",
       "3863  1918-04-29  108.0       16.7       4.6      26.3  21.7\n",
       "3147  1916-05-13  108.0       18.1       8.3      29.7  21.4\n",
       "13980 1946-01-09  108.0       -8.1     -13.6       7.7  21.3\n",
       "6026  1924-03-31  108.0        9.0      -1.0      20.2  21.2\n",
       "7696  1928-10-26  108.0       14.3       4.5      25.7  21.2\n",
       "559   1909-04-12  108.0       11.1      -0.9      20.2  21.1\n",
       "3545  1917-06-15  108.0       23.8      13.5      34.5  21.0\n",
       "2062  1913-05-24  108.0       19.7       9.2      30.0  20.8\n",
       "11513 1939-04-09  108.0       10.6       0.6      21.4  20.8"
      ]
     },
     "execution_count": 113,
     "metadata": {},
     "output_type": "execute_result"
    }
   ],
   "source": [
    "# 역대 일교차가 가장 컸던 날의 일교차는?\n",
    "temp_new.sort_values('diff', ascending=False).head(10)"
   ]
  },
  {
   "cell_type": "markdown",
   "id": "e9822a3a",
   "metadata": {},
   "source": [
    "## 날짜를 년(year), 월(month), 일(day)로 나누기"
   ]
  },
  {
   "cell_type": "code",
   "execution_count": 114,
   "id": "33aa857c",
   "metadata": {},
   "outputs": [],
   "source": [
    "# 날짜에서 년을 구하여 파생 변수 year로 저장\n",
    "temp_new['year'] = temp_new['날짜'].dt.year"
   ]
  },
  {
   "cell_type": "code",
   "execution_count": 115,
   "id": "0b8a3837",
   "metadata": {},
   "outputs": [
    {
     "data": {
      "text/html": [
       "<div>\n",
       "<style scoped>\n",
       "    .dataframe tbody tr th:only-of-type {\n",
       "        vertical-align: middle;\n",
       "    }\n",
       "\n",
       "    .dataframe tbody tr th {\n",
       "        vertical-align: top;\n",
       "    }\n",
       "\n",
       "    .dataframe thead th {\n",
       "        text-align: right;\n",
       "    }\n",
       "</style>\n",
       "<table border=\"1\" class=\"dataframe\">\n",
       "  <thead>\n",
       "    <tr style=\"text-align: right;\">\n",
       "      <th></th>\n",
       "      <th>날짜</th>\n",
       "      <th>지점</th>\n",
       "      <th>temp_mean</th>\n",
       "      <th>temp_min</th>\n",
       "      <th>temp_max</th>\n",
       "      <th>diff</th>\n",
       "      <th>year</th>\n",
       "    </tr>\n",
       "  </thead>\n",
       "  <tbody>\n",
       "    <tr>\n",
       "      <th>0</th>\n",
       "      <td>1907-10-01</td>\n",
       "      <td>108.0</td>\n",
       "      <td>13.5</td>\n",
       "      <td>7.9</td>\n",
       "      <td>20.7</td>\n",
       "      <td>12.8</td>\n",
       "      <td>1907.0</td>\n",
       "    </tr>\n",
       "    <tr>\n",
       "      <th>1</th>\n",
       "      <td>1907-10-02</td>\n",
       "      <td>108.0</td>\n",
       "      <td>16.2</td>\n",
       "      <td>7.9</td>\n",
       "      <td>22.0</td>\n",
       "      <td>14.1</td>\n",
       "      <td>1907.0</td>\n",
       "    </tr>\n",
       "    <tr>\n",
       "      <th>2</th>\n",
       "      <td>1907-10-03</td>\n",
       "      <td>108.0</td>\n",
       "      <td>16.2</td>\n",
       "      <td>13.1</td>\n",
       "      <td>21.3</td>\n",
       "      <td>8.2</td>\n",
       "      <td>1907.0</td>\n",
       "    </tr>\n",
       "    <tr>\n",
       "      <th>3</th>\n",
       "      <td>1907-10-04</td>\n",
       "      <td>108.0</td>\n",
       "      <td>16.5</td>\n",
       "      <td>11.2</td>\n",
       "      <td>22.0</td>\n",
       "      <td>10.8</td>\n",
       "      <td>1907.0</td>\n",
       "    </tr>\n",
       "    <tr>\n",
       "      <th>4</th>\n",
       "      <td>1907-10-05</td>\n",
       "      <td>108.0</td>\n",
       "      <td>17.6</td>\n",
       "      <td>10.9</td>\n",
       "      <td>25.4</td>\n",
       "      <td>14.5</td>\n",
       "      <td>1907.0</td>\n",
       "    </tr>\n",
       "  </tbody>\n",
       "</table>\n",
       "</div>"
      ],
      "text/plain": [
       "          날짜     지점  temp_mean  temp_min  temp_max  diff    year\n",
       "0 1907-10-01  108.0       13.5       7.9      20.7  12.8  1907.0\n",
       "1 1907-10-02  108.0       16.2       7.9      22.0  14.1  1907.0\n",
       "2 1907-10-03  108.0       16.2      13.1      21.3   8.2  1907.0\n",
       "3 1907-10-04  108.0       16.5      11.2      22.0  10.8  1907.0\n",
       "4 1907-10-05  108.0       17.6      10.9      25.4  14.5  1907.0"
      ]
     },
     "execution_count": 115,
     "metadata": {},
     "output_type": "execute_result"
    }
   ],
   "source": [
    "temp_new.head()"
   ]
  },
  {
   "cell_type": "code",
   "execution_count": 116,
   "id": "d797cc13",
   "metadata": {},
   "outputs": [],
   "source": [
    "# 날짜에서 월을 구하여 파생 변수 month로 저장\n",
    "temp_new['month'] = temp_new['날짜'].dt.month"
   ]
  },
  {
   "cell_type": "code",
   "execution_count": 117,
   "id": "f5ac4215",
   "metadata": {},
   "outputs": [],
   "source": [
    "# 날짜에서 일을 구하여 파생 변수 day로 저장\n",
    "temp_new['day'] = temp_new['날짜'].dt.day"
   ]
  },
  {
   "cell_type": "code",
   "execution_count": 118,
   "id": "c27bb80f",
   "metadata": {},
   "outputs": [
    {
     "data": {
      "text/html": [
       "<div>\n",
       "<style scoped>\n",
       "    .dataframe tbody tr th:only-of-type {\n",
       "        vertical-align: middle;\n",
       "    }\n",
       "\n",
       "    .dataframe tbody tr th {\n",
       "        vertical-align: top;\n",
       "    }\n",
       "\n",
       "    .dataframe thead th {\n",
       "        text-align: right;\n",
       "    }\n",
       "</style>\n",
       "<table border=\"1\" class=\"dataframe\">\n",
       "  <thead>\n",
       "    <tr style=\"text-align: right;\">\n",
       "      <th></th>\n",
       "      <th>날짜</th>\n",
       "      <th>지점</th>\n",
       "      <th>temp_mean</th>\n",
       "      <th>temp_min</th>\n",
       "      <th>temp_max</th>\n",
       "      <th>diff</th>\n",
       "      <th>year</th>\n",
       "      <th>month</th>\n",
       "      <th>day</th>\n",
       "    </tr>\n",
       "  </thead>\n",
       "  <tbody>\n",
       "    <tr>\n",
       "      <th>0</th>\n",
       "      <td>1907-10-01</td>\n",
       "      <td>108.0</td>\n",
       "      <td>13.5</td>\n",
       "      <td>7.9</td>\n",
       "      <td>20.7</td>\n",
       "      <td>12.8</td>\n",
       "      <td>1907.0</td>\n",
       "      <td>10.0</td>\n",
       "      <td>1.0</td>\n",
       "    </tr>\n",
       "    <tr>\n",
       "      <th>1</th>\n",
       "      <td>1907-10-02</td>\n",
       "      <td>108.0</td>\n",
       "      <td>16.2</td>\n",
       "      <td>7.9</td>\n",
       "      <td>22.0</td>\n",
       "      <td>14.1</td>\n",
       "      <td>1907.0</td>\n",
       "      <td>10.0</td>\n",
       "      <td>2.0</td>\n",
       "    </tr>\n",
       "    <tr>\n",
       "      <th>2</th>\n",
       "      <td>1907-10-03</td>\n",
       "      <td>108.0</td>\n",
       "      <td>16.2</td>\n",
       "      <td>13.1</td>\n",
       "      <td>21.3</td>\n",
       "      <td>8.2</td>\n",
       "      <td>1907.0</td>\n",
       "      <td>10.0</td>\n",
       "      <td>3.0</td>\n",
       "    </tr>\n",
       "    <tr>\n",
       "      <th>3</th>\n",
       "      <td>1907-10-04</td>\n",
       "      <td>108.0</td>\n",
       "      <td>16.5</td>\n",
       "      <td>11.2</td>\n",
       "      <td>22.0</td>\n",
       "      <td>10.8</td>\n",
       "      <td>1907.0</td>\n",
       "      <td>10.0</td>\n",
       "      <td>4.0</td>\n",
       "    </tr>\n",
       "    <tr>\n",
       "      <th>4</th>\n",
       "      <td>1907-10-05</td>\n",
       "      <td>108.0</td>\n",
       "      <td>17.6</td>\n",
       "      <td>10.9</td>\n",
       "      <td>25.4</td>\n",
       "      <td>14.5</td>\n",
       "      <td>1907.0</td>\n",
       "      <td>10.0</td>\n",
       "      <td>5.0</td>\n",
       "    </tr>\n",
       "  </tbody>\n",
       "</table>\n",
       "</div>"
      ],
      "text/plain": [
       "          날짜     지점  temp_mean  temp_min  temp_max  diff    year  month  day\n",
       "0 1907-10-01  108.0       13.5       7.9      20.7  12.8  1907.0   10.0  1.0\n",
       "1 1907-10-02  108.0       16.2       7.9      22.0  14.1  1907.0   10.0  2.0\n",
       "2 1907-10-03  108.0       16.2      13.1      21.3   8.2  1907.0   10.0  3.0\n",
       "3 1907-10-04  108.0       16.5      11.2      22.0  10.8  1907.0   10.0  4.0\n",
       "4 1907-10-05  108.0       17.6      10.9      25.4  14.5  1907.0   10.0  5.0"
      ]
     },
     "execution_count": 118,
     "metadata": {},
     "output_type": "execute_result"
    }
   ],
   "source": [
    "# 파생변수 year month day 확인\n",
    "temp_new.head()"
   ]
  },
  {
   "cell_type": "code",
   "execution_count": 119,
   "id": "15d245a6",
   "metadata": {},
   "outputs": [
    {
     "data": {
      "text/plain": [
       "날짜             1\n",
       "지점             1\n",
       "temp_mean    757\n",
       "temp_min     760\n",
       "temp_max     760\n",
       "diff         761\n",
       "year           1\n",
       "month          1\n",
       "day            1\n",
       "dtype: int64"
      ]
     },
     "execution_count": 119,
     "metadata": {},
     "output_type": "execute_result"
    }
   ],
   "source": [
    "# 데이터 프레임 temp_new에서 결측치 개수 확인\n",
    "pd.isna(temp_new).sum()"
   ]
  },
  {
   "cell_type": "code",
   "execution_count": 120,
   "id": "e3f12249",
   "metadata": {},
   "outputs": [],
   "source": [
    "# 데이터 프레임 temp_new에서 변수 temp_mean, temp_min, temp_max 결측치 제거\n",
    "temp_new = temp_new.dropna(subset = ['temp_mean', 'temp_min', 'temp_max'])"
   ]
  },
  {
   "cell_type": "code",
   "execution_count": 121,
   "id": "b40be9a5",
   "metadata": {},
   "outputs": [
    {
     "data": {
      "text/plain": [
       "날짜           0\n",
       "지점           0\n",
       "temp_mean    0\n",
       "temp_min     0\n",
       "temp_max     0\n",
       "diff         0\n",
       "year         0\n",
       "month        0\n",
       "day          0\n",
       "dtype: int64"
      ]
     },
     "execution_count": 121,
     "metadata": {},
     "output_type": "execute_result"
    }
   ],
   "source": [
    "# 결측치 개수 확인\n",
    "pd.isna(temp_new).sum()"
   ]
  },
  {
   "cell_type": "code",
   "execution_count": 127,
   "id": "a26b59bc",
   "metadata": {},
   "outputs": [
    {
     "name": "stdout",
     "output_type": "stream",
     "text": [
      "<class 'pandas.core.frame.DataFrame'>\n",
      "Int64Index: 41005 entries, 0 to 41764\n",
      "Data columns (total 9 columns):\n",
      " #   Column     Non-Null Count  Dtype         \n",
      "---  ------     --------------  -----         \n",
      " 0   날짜         41005 non-null  datetime64[ns]\n",
      " 1   지점         41005 non-null  float64       \n",
      " 2   temp_mean  41005 non-null  float64       \n",
      " 3   temp_min   41005 non-null  float64       \n",
      " 4   temp_max   41005 non-null  float64       \n",
      " 5   diff       41005 non-null  float64       \n",
      " 6   year       41005 non-null  float64       \n",
      " 7   month      41005 non-null  float64       \n",
      " 8   day        41005 non-null  float64       \n",
      "dtypes: datetime64[ns](1), float64(8)\n",
      "memory usage: 3.1 MB\n"
     ]
    }
   ],
   "source": [
    "temp_new.info()"
   ]
  },
  {
   "cell_type": "code",
   "execution_count": 128,
   "id": "8b10f0b2",
   "metadata": {},
   "outputs": [
    {
     "data": {
      "text/html": [
       "<div>\n",
       "<style scoped>\n",
       "    .dataframe tbody tr th:only-of-type {\n",
       "        vertical-align: middle;\n",
       "    }\n",
       "\n",
       "    .dataframe tbody tr th {\n",
       "        vertical-align: top;\n",
       "    }\n",
       "\n",
       "    .dataframe thead th {\n",
       "        text-align: right;\n",
       "    }\n",
       "</style>\n",
       "<table border=\"1\" class=\"dataframe\">\n",
       "  <thead>\n",
       "    <tr style=\"text-align: right;\">\n",
       "      <th></th>\n",
       "      <th>지점</th>\n",
       "      <th>temp_mean</th>\n",
       "      <th>temp_min</th>\n",
       "      <th>temp_max</th>\n",
       "      <th>diff</th>\n",
       "      <th>year</th>\n",
       "      <th>month</th>\n",
       "      <th>day</th>\n",
       "    </tr>\n",
       "  </thead>\n",
       "  <tbody>\n",
       "    <tr>\n",
       "      <th>count</th>\n",
       "      <td>41005.0</td>\n",
       "      <td>41005.000000</td>\n",
       "      <td>41005.000000</td>\n",
       "      <td>41005.000000</td>\n",
       "      <td>41005.000000</td>\n",
       "      <td>41005.000000</td>\n",
       "      <td>41005.000000</td>\n",
       "      <td>41005.000000</td>\n",
       "    </tr>\n",
       "    <tr>\n",
       "      <th>mean</th>\n",
       "      <td>108.0</td>\n",
       "      <td>11.755398</td>\n",
       "      <td>7.463731</td>\n",
       "      <td>16.759898</td>\n",
       "      <td>9.296166</td>\n",
       "      <td>1965.390733</td>\n",
       "      <td>6.514620</td>\n",
       "      <td>15.727277</td>\n",
       "    </tr>\n",
       "    <tr>\n",
       "      <th>std</th>\n",
       "      <td>0.0</td>\n",
       "      <td>10.657712</td>\n",
       "      <td>10.884382</td>\n",
       "      <td>10.974986</td>\n",
       "      <td>3.232933</td>\n",
       "      <td>33.752712</td>\n",
       "      <td>3.454078</td>\n",
       "      <td>8.801030</td>\n",
       "    </tr>\n",
       "    <tr>\n",
       "      <th>min</th>\n",
       "      <td>108.0</td>\n",
       "      <td>-19.200000</td>\n",
       "      <td>-23.100000</td>\n",
       "      <td>-16.300000</td>\n",
       "      <td>1.000000</td>\n",
       "      <td>1907.000000</td>\n",
       "      <td>1.000000</td>\n",
       "      <td>1.000000</td>\n",
       "    </tr>\n",
       "    <tr>\n",
       "      <th>25%</th>\n",
       "      <td>108.0</td>\n",
       "      <td>2.700000</td>\n",
       "      <td>-1.400000</td>\n",
       "      <td>7.300000</td>\n",
       "      <td>7.000000</td>\n",
       "      <td>1935.000000</td>\n",
       "      <td>4.000000</td>\n",
       "      <td>8.000000</td>\n",
       "    </tr>\n",
       "    <tr>\n",
       "      <th>50%</th>\n",
       "      <td>108.0</td>\n",
       "      <td>12.900000</td>\n",
       "      <td>8.000000</td>\n",
       "      <td>18.600000</td>\n",
       "      <td>9.200000</td>\n",
       "      <td>1967.000000</td>\n",
       "      <td>7.000000</td>\n",
       "      <td>16.000000</td>\n",
       "    </tr>\n",
       "    <tr>\n",
       "      <th>75%</th>\n",
       "      <td>108.0</td>\n",
       "      <td>21.200000</td>\n",
       "      <td>17.100000</td>\n",
       "      <td>26.300000</td>\n",
       "      <td>11.500000</td>\n",
       "      <td>1995.000000</td>\n",
       "      <td>10.000000</td>\n",
       "      <td>23.000000</td>\n",
       "    </tr>\n",
       "    <tr>\n",
       "      <th>max</th>\n",
       "      <td>108.0</td>\n",
       "      <td>33.700000</td>\n",
       "      <td>30.300000</td>\n",
       "      <td>39.600000</td>\n",
       "      <td>21.800000</td>\n",
       "      <td>2023.000000</td>\n",
       "      <td>12.000000</td>\n",
       "      <td>31.000000</td>\n",
       "    </tr>\n",
       "  </tbody>\n",
       "</table>\n",
       "</div>"
      ],
      "text/plain": [
       "            지점     temp_mean      temp_min      temp_max          diff  \\\n",
       "count  41005.0  41005.000000  41005.000000  41005.000000  41005.000000   \n",
       "mean     108.0     11.755398      7.463731     16.759898      9.296166   \n",
       "std        0.0     10.657712     10.884382     10.974986      3.232933   \n",
       "min      108.0    -19.200000    -23.100000    -16.300000      1.000000   \n",
       "25%      108.0      2.700000     -1.400000      7.300000      7.000000   \n",
       "50%      108.0     12.900000      8.000000     18.600000      9.200000   \n",
       "75%      108.0     21.200000     17.100000     26.300000     11.500000   \n",
       "max      108.0     33.700000     30.300000     39.600000     21.800000   \n",
       "\n",
       "               year         month           day  \n",
       "count  41005.000000  41005.000000  41005.000000  \n",
       "mean    1965.390733      6.514620     15.727277  \n",
       "std       33.752712      3.454078      8.801030  \n",
       "min     1907.000000      1.000000      1.000000  \n",
       "25%     1935.000000      4.000000      8.000000  \n",
       "50%     1967.000000      7.000000     16.000000  \n",
       "75%     1995.000000     10.000000     23.000000  \n",
       "max     2023.000000     12.000000     31.000000  "
      ]
     },
     "execution_count": 128,
     "metadata": {},
     "output_type": "execute_result"
    }
   ],
   "source": [
    "temp_new.describe()"
   ]
  },
  {
   "cell_type": "code",
   "execution_count": 122,
   "id": "9b41b520",
   "metadata": {
    "scrolled": true
   },
   "outputs": [
    {
     "data": {
      "text/html": [
       "<div>\n",
       "<style scoped>\n",
       "    .dataframe tbody tr th:only-of-type {\n",
       "        vertical-align: middle;\n",
       "    }\n",
       "\n",
       "    .dataframe tbody tr th {\n",
       "        vertical-align: top;\n",
       "    }\n",
       "\n",
       "    .dataframe thead th {\n",
       "        text-align: right;\n",
       "    }\n",
       "</style>\n",
       "<table border=\"1\" class=\"dataframe\">\n",
       "  <thead>\n",
       "    <tr style=\"text-align: right;\">\n",
       "      <th></th>\n",
       "      <th>diff_mean</th>\n",
       "    </tr>\n",
       "    <tr>\n",
       "      <th>month</th>\n",
       "      <th></th>\n",
       "    </tr>\n",
       "  </thead>\n",
       "  <tbody>\n",
       "    <tr>\n",
       "      <th>10.0</th>\n",
       "      <td>10.866916</td>\n",
       "    </tr>\n",
       "    <tr>\n",
       "      <th>5.0</th>\n",
       "      <td>10.844700</td>\n",
       "    </tr>\n",
       "    <tr>\n",
       "      <th>4.0</th>\n",
       "      <td>10.817507</td>\n",
       "    </tr>\n",
       "    <tr>\n",
       "      <th>6.0</th>\n",
       "      <td>9.722262</td>\n",
       "    </tr>\n",
       "    <tr>\n",
       "      <th>3.0</th>\n",
       "      <td>9.609164</td>\n",
       "    </tr>\n",
       "    <tr>\n",
       "      <th>9.0</th>\n",
       "      <td>9.464925</td>\n",
       "    </tr>\n",
       "    <tr>\n",
       "      <th>11.0</th>\n",
       "      <td>9.405089</td>\n",
       "    </tr>\n",
       "    <tr>\n",
       "      <th>2.0</th>\n",
       "      <td>8.874397</td>\n",
       "    </tr>\n",
       "    <tr>\n",
       "      <th>1.0</th>\n",
       "      <td>8.436826</td>\n",
       "    </tr>\n",
       "    <tr>\n",
       "      <th>12.0</th>\n",
       "      <td>8.257579</td>\n",
       "    </tr>\n",
       "    <tr>\n",
       "      <th>8.0</th>\n",
       "      <td>7.931922</td>\n",
       "    </tr>\n",
       "    <tr>\n",
       "      <th>7.0</th>\n",
       "      <td>7.372091</td>\n",
       "    </tr>\n",
       "  </tbody>\n",
       "</table>\n",
       "</div>"
      ],
      "text/plain": [
       "       diff_mean\n",
       "month           \n",
       "10.0   10.866916\n",
       "5.0    10.844700\n",
       "4.0    10.817507\n",
       "6.0     9.722262\n",
       "3.0     9.609164\n",
       "9.0     9.464925\n",
       "11.0    9.405089\n",
       "2.0     8.874397\n",
       "1.0     8.436826\n",
       "12.0    8.257579\n",
       "8.0     7.931922\n",
       "7.0     7.372091"
      ]
     },
     "execution_count": 122,
     "metadata": {},
     "output_type": "execute_result"
    }
   ],
   "source": [
    "# 월별 평균 일교차가 큰 달을 알아보기\n",
    "temp_new.groupby('month')\\\n",
    "    .agg(diff_mean = ('diff', 'mean'))\\\n",
    "    .sort_values('diff_mean', ascending = False)"
   ]
  },
  {
   "cell_type": "code",
   "execution_count": 123,
   "id": "8432aeb5",
   "metadata": {
    "scrolled": true
   },
   "outputs": [
    {
     "data": {
      "text/html": [
       "<div>\n",
       "<style scoped>\n",
       "    .dataframe tbody tr th:only-of-type {\n",
       "        vertical-align: middle;\n",
       "    }\n",
       "\n",
       "    .dataframe tbody tr th {\n",
       "        vertical-align: top;\n",
       "    }\n",
       "\n",
       "    .dataframe thead th {\n",
       "        text-align: right;\n",
       "    }\n",
       "</style>\n",
       "<table border=\"1\" class=\"dataframe\">\n",
       "  <thead>\n",
       "    <tr style=\"text-align: right;\">\n",
       "      <th></th>\n",
       "      <th>mean_temp</th>\n",
       "    </tr>\n",
       "    <tr>\n",
       "      <th>month</th>\n",
       "      <th></th>\n",
       "    </tr>\n",
       "  </thead>\n",
       "  <tbody>\n",
       "    <tr>\n",
       "      <th>1.0</th>\n",
       "      <td>-3.534057</td>\n",
       "    </tr>\n",
       "    <tr>\n",
       "      <th>2.0</th>\n",
       "      <td>-0.902883</td>\n",
       "    </tr>\n",
       "    <tr>\n",
       "      <th>3.0</th>\n",
       "      <td>4.559349</td>\n",
       "    </tr>\n",
       "    <tr>\n",
       "      <th>4.0</th>\n",
       "      <td>11.473175</td>\n",
       "    </tr>\n",
       "    <tr>\n",
       "      <th>5.0</th>\n",
       "      <td>17.012298</td>\n",
       "    </tr>\n",
       "    <tr>\n",
       "      <th>6.0</th>\n",
       "      <td>21.538988</td>\n",
       "    </tr>\n",
       "    <tr>\n",
       "      <th>7.0</th>\n",
       "      <td>24.809706</td>\n",
       "    </tr>\n",
       "    <tr>\n",
       "      <th>8.0</th>\n",
       "      <td>25.554249</td>\n",
       "    </tr>\n",
       "    <tr>\n",
       "      <th>9.0</th>\n",
       "      <td>20.641441</td>\n",
       "    </tr>\n",
       "    <tr>\n",
       "      <th>10.0</th>\n",
       "      <td>13.996484</td>\n",
       "    </tr>\n",
       "    <tr>\n",
       "      <th>11.0</th>\n",
       "      <td>6.508095</td>\n",
       "    </tr>\n",
       "    <tr>\n",
       "      <th>12.0</th>\n",
       "      <td>-0.796974</td>\n",
       "    </tr>\n",
       "  </tbody>\n",
       "</table>\n",
       "</div>"
      ],
      "text/plain": [
       "       mean_temp\n",
       "month           \n",
       "1.0    -3.534057\n",
       "2.0    -0.902883\n",
       "3.0     4.559349\n",
       "4.0    11.473175\n",
       "5.0    17.012298\n",
       "6.0    21.538988\n",
       "7.0    24.809706\n",
       "8.0    25.554249\n",
       "9.0    20.641441\n",
       "10.0   13.996484\n",
       "11.0    6.508095\n",
       "12.0   -0.796974"
      ]
     },
     "execution_count": 123,
     "metadata": {},
     "output_type": "execute_result"
    }
   ],
   "source": [
    "# 월별 평균 기온 알아보기\n",
    "temp_new.groupby('month')\\\n",
    "    .agg(mean_temp = ('temp_mean', 'mean'))"
   ]
  },
  {
   "cell_type": "code",
   "execution_count": 124,
   "id": "0e69809a",
   "metadata": {},
   "outputs": [
    {
     "data": {
      "text/html": [
       "<div>\n",
       "<style scoped>\n",
       "    .dataframe tbody tr th:only-of-type {\n",
       "        vertical-align: middle;\n",
       "    }\n",
       "\n",
       "    .dataframe tbody tr th {\n",
       "        vertical-align: top;\n",
       "    }\n",
       "\n",
       "    .dataframe thead th {\n",
       "        text-align: right;\n",
       "    }\n",
       "</style>\n",
       "<table border=\"1\" class=\"dataframe\">\n",
       "  <thead>\n",
       "    <tr style=\"text-align: right;\">\n",
       "      <th></th>\n",
       "      <th>날짜</th>\n",
       "      <th>지점</th>\n",
       "      <th>temp_mean</th>\n",
       "      <th>temp_min</th>\n",
       "      <th>temp_max</th>\n",
       "      <th>diff</th>\n",
       "      <th>year</th>\n",
       "      <th>month</th>\n",
       "      <th>day</th>\n",
       "    </tr>\n",
       "  </thead>\n",
       "  <tbody>\n",
       "    <tr>\n",
       "      <th>92</th>\n",
       "      <td>1908-01-01</td>\n",
       "      <td>108.0</td>\n",
       "      <td>-5.9</td>\n",
       "      <td>-9.1</td>\n",
       "      <td>-1.3</td>\n",
       "      <td>7.8</td>\n",
       "      <td>1908.0</td>\n",
       "      <td>1.0</td>\n",
       "      <td>1.0</td>\n",
       "    </tr>\n",
       "    <tr>\n",
       "      <th>93</th>\n",
       "      <td>1908-01-02</td>\n",
       "      <td>108.0</td>\n",
       "      <td>-7.7</td>\n",
       "      <td>-13.9</td>\n",
       "      <td>-3.0</td>\n",
       "      <td>10.9</td>\n",
       "      <td>1908.0</td>\n",
       "      <td>1.0</td>\n",
       "      <td>2.0</td>\n",
       "    </tr>\n",
       "    <tr>\n",
       "      <th>94</th>\n",
       "      <td>1908-01-03</td>\n",
       "      <td>108.0</td>\n",
       "      <td>-6.2</td>\n",
       "      <td>-10.8</td>\n",
       "      <td>-2.9</td>\n",
       "      <td>7.9</td>\n",
       "      <td>1908.0</td>\n",
       "      <td>1.0</td>\n",
       "      <td>3.0</td>\n",
       "    </tr>\n",
       "    <tr>\n",
       "      <th>95</th>\n",
       "      <td>1908-01-04</td>\n",
       "      <td>108.0</td>\n",
       "      <td>-7.5</td>\n",
       "      <td>-12.8</td>\n",
       "      <td>-1.7</td>\n",
       "      <td>11.1</td>\n",
       "      <td>1908.0</td>\n",
       "      <td>1.0</td>\n",
       "      <td>4.0</td>\n",
       "    </tr>\n",
       "    <tr>\n",
       "      <th>96</th>\n",
       "      <td>1908-01-05</td>\n",
       "      <td>108.0</td>\n",
       "      <td>-4.8</td>\n",
       "      <td>-11.3</td>\n",
       "      <td>-0.1</td>\n",
       "      <td>11.2</td>\n",
       "      <td>1908.0</td>\n",
       "      <td>1.0</td>\n",
       "      <td>5.0</td>\n",
       "    </tr>\n",
       "  </tbody>\n",
       "</table>\n",
       "</div>"
      ],
      "text/plain": [
       "           날짜     지점  temp_mean  temp_min  temp_max  diff    year  month  day\n",
       "92 1908-01-01  108.0       -5.9      -9.1      -1.3   7.8  1908.0    1.0  1.0\n",
       "93 1908-01-02  108.0       -7.7     -13.9      -3.0  10.9  1908.0    1.0  2.0\n",
       "94 1908-01-03  108.0       -6.2     -10.8      -2.9   7.9  1908.0    1.0  3.0\n",
       "95 1908-01-04  108.0       -7.5     -12.8      -1.7  11.1  1908.0    1.0  4.0\n",
       "96 1908-01-05  108.0       -4.8     -11.3      -0.1  11.2  1908.0    1.0  5.0"
      ]
     },
     "execution_count": 124,
     "metadata": {},
     "output_type": "execute_result"
    }
   ],
   "source": [
    "# 역대 1월 평균 기온 변화를 알아보기\n",
    "temp_jan = temp_new.query('month == 1.0')\n",
    "temp_jan.head()"
   ]
  },
  {
   "cell_type": "code",
   "execution_count": 125,
   "id": "6998afda",
   "metadata": {},
   "outputs": [
    {
     "data": {
      "text/html": [
       "<div>\n",
       "<style scoped>\n",
       "    .dataframe tbody tr th:only-of-type {\n",
       "        vertical-align: middle;\n",
       "    }\n",
       "\n",
       "    .dataframe tbody tr th {\n",
       "        vertical-align: top;\n",
       "    }\n",
       "\n",
       "    .dataframe thead th {\n",
       "        text-align: right;\n",
       "    }\n",
       "</style>\n",
       "<table border=\"1\" class=\"dataframe\">\n",
       "  <thead>\n",
       "    <tr style=\"text-align: right;\">\n",
       "      <th></th>\n",
       "      <th>mean_temp_jan</th>\n",
       "    </tr>\n",
       "    <tr>\n",
       "      <th>year</th>\n",
       "      <th></th>\n",
       "    </tr>\n",
       "  </thead>\n",
       "  <tbody>\n",
       "    <tr>\n",
       "      <th>1908.0</th>\n",
       "      <td>-3.464516</td>\n",
       "    </tr>\n",
       "    <tr>\n",
       "      <th>1909.0</th>\n",
       "      <td>-2.509677</td>\n",
       "    </tr>\n",
       "    <tr>\n",
       "      <th>1910.0</th>\n",
       "      <td>-2.258065</td>\n",
       "    </tr>\n",
       "    <tr>\n",
       "      <th>1911.0</th>\n",
       "      <td>-4.961290</td>\n",
       "    </tr>\n",
       "    <tr>\n",
       "      <th>1912.0</th>\n",
       "      <td>-4.687097</td>\n",
       "    </tr>\n",
       "  </tbody>\n",
       "</table>\n",
       "</div>"
      ],
      "text/plain": [
       "        mean_temp_jan\n",
       "year                 \n",
       "1908.0      -3.464516\n",
       "1909.0      -2.509677\n",
       "1910.0      -2.258065\n",
       "1911.0      -4.961290\n",
       "1912.0      -4.687097"
      ]
     },
     "execution_count": 125,
     "metadata": {},
     "output_type": "execute_result"
    }
   ],
   "source": [
    "# 년도별 1월 평균 기온 출력하기\n",
    "mean_temp_jan = temp_jan.groupby('year')\\\n",
    "    .agg(mean_temp_jan = ('temp_mean', 'mean'))\n",
    "mean_temp_jan.head()"
   ]
  },
  {
   "cell_type": "code",
   "execution_count": 126,
   "id": "bb8145b9",
   "metadata": {},
   "outputs": [
    {
     "data": {
      "text/plain": [
       "<AxesSubplot:xlabel='year'>"
      ]
     },
     "execution_count": 126,
     "metadata": {},
     "output_type": "execute_result"
    },
    {
     "data": {
      "image/png": "[encoded data removed]",
      "text/plain": [
       "<Figure size 640x480 with 1 Axes>"
      ]
     },
     "metadata": {},
     "output_type": "display_data"
    }
   ],
   "source": [
    "# 년도별 1월 평균 기온은 라인 그래프로 출력하기\n",
    "mean_temp_jan.plot.line()"
   ]
  },
  {
   "cell_type": "code",
   "execution_count": null,
   "id": "64eb3c5b",
   "metadata": {},
   "outputs": [],
   "source": []
  },
  {
   "cell_type": "code",
   "execution_count": null,
   "id": "39cac7de",
   "metadata": {},
   "outputs": [],
   "source": []
  },
  {
   "cell_type": "code",
   "execution_count": null,
   "id": "11a3bff5",
   "metadata": {},
   "outputs": [],
   "source": []
  },
  {
   "cell_type": "code",
   "execution_count": null,
   "id": "57fc7dea",
   "metadata": {},
   "outputs": [],
   "source": []
  },
  {
   "cell_type": "code",
   "execution_count": null,
   "id": "9c216332",
   "metadata": {},
   "outputs": [],
   "source": []
  },
  {
   "cell_type": "code",
   "execution_count": null,
   "id": "4c219ae9",
   "metadata": {},
   "outputs": [],
   "source": []
  },
  {
   "cell_type": "code",
   "execution_count": null,
   "id": "8c2a3c7d",
   "metadata": {},
   "outputs": [],
   "source": []
  },
  {
   "cell_type": "code",
   "execution_count": null,
   "id": "60521b84",
   "metadata": {},
   "outputs": [],
   "source": []
  }
 ],
 "metadata": {
  "kernelspec": {
   "display_name": "Python 3 (ipykernel)",
   "language": "python",
   "name": "python3"
  },
  "language_info": {
   "codemirror_mode": {
    "name": "ipython",
    "version": 3
   },
   "file_extension": ".py",
   "mimetype": "text/x-python",
   "name": "python",
   "nbconvert_exporter": "python",
   "pygments_lexer": "ipython3",
   "version": "3.9.13"
  }
 },
 "nbformat": 4,
 "nbformat_minor": 5
}
